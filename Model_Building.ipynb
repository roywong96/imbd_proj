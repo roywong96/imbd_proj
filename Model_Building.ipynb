{
 "cells": [
  {
   "cell_type": "code",
   "execution_count": 1,
   "metadata": {},
   "outputs": [],
   "source": [
    "# importing standard library packages\n",
    "import numpy as np\n",
    "import pandas as pd\n",
    "import seaborn as sns\n",
    "import matplotlib.pyplot as plt"
   ]
  },
  {
   "cell_type": "code",
   "execution_count": 2,
   "metadata": {},
   "outputs": [],
   "source": [
    "# reading the data file .csv\n",
    "df = pd.read_csv('/Users/roywong/Desktop/Work_Stuff/PythonPortfolio/10.web_imdb_data/EDA_movies.csv')"
   ]
  },
  {
   "cell_type": "code",
   "execution_count": 3,
   "metadata": {},
   "outputs": [
    {
     "data": {
      "text/html": [
       "<div>\n",
       "<style scoped>\n",
       "    .dataframe tbody tr th:only-of-type {\n",
       "        vertical-align: middle;\n",
       "    }\n",
       "\n",
       "    .dataframe tbody tr th {\n",
       "        vertical-align: top;\n",
       "    }\n",
       "\n",
       "    .dataframe thead th {\n",
       "        text-align: right;\n",
       "    }\n",
       "</style>\n",
       "<table border=\"1\" class=\"dataframe\">\n",
       "  <thead>\n",
       "    <tr style=\"text-align: right;\">\n",
       "      <th></th>\n",
       "      <th>Title</th>\n",
       "      <th>Ratings</th>\n",
       "      <th>Raters</th>\n",
       "      <th>Directors</th>\n",
       "      <th>Writers</th>\n",
       "      <th>Actors</th>\n",
       "      <th>Country</th>\n",
       "      <th>Language</th>\n",
       "      <th>Date</th>\n",
       "      <th>Budget</th>\n",
       "      <th>...</th>\n",
       "      <th>Animation</th>\n",
       "      <th>Adventure</th>\n",
       "      <th>Crime</th>\n",
       "      <th>Musical</th>\n",
       "      <th>Western</th>\n",
       "      <th>War</th>\n",
       "      <th>Action</th>\n",
       "      <th>Comedy</th>\n",
       "      <th>Year</th>\n",
       "      <th>Month</th>\n",
       "    </tr>\n",
       "  </thead>\n",
       "  <tbody>\n",
       "    <tr>\n",
       "      <th>0</th>\n",
       "      <td>Tenet</td>\n",
       "      <td>7.6</td>\n",
       "      <td>213736.0</td>\n",
       "      <td>Christopher Nolan</td>\n",
       "      <td>Christopher Nolan</td>\n",
       "      <td>['John David Washington', 'Robert Pattinson', ...</td>\n",
       "      <td>UK</td>\n",
       "      <td>Norwegian</td>\n",
       "      <td>2020-08-27</td>\n",
       "      <td>205000000.0</td>\n",
       "      <td>...</td>\n",
       "      <td>0</td>\n",
       "      <td>0</td>\n",
       "      <td>0</td>\n",
       "      <td>0</td>\n",
       "      <td>0</td>\n",
       "      <td>0</td>\n",
       "      <td>1</td>\n",
       "      <td>0</td>\n",
       "      <td>2020</td>\n",
       "      <td>8</td>\n",
       "    </tr>\n",
       "    <tr>\n",
       "      <th>1</th>\n",
       "      <td>Ava</td>\n",
       "      <td>5.4</td>\n",
       "      <td>28393.0</td>\n",
       "      <td>Tate Taylor</td>\n",
       "      <td>Matthew Newton</td>\n",
       "      <td>['Jessica Chastain', 'John Malkovich', 'Common']</td>\n",
       "      <td>USA</td>\n",
       "      <td>English</td>\n",
       "      <td>2020-09-02</td>\n",
       "      <td>40000000.0</td>\n",
       "      <td>...</td>\n",
       "      <td>0</td>\n",
       "      <td>0</td>\n",
       "      <td>1</td>\n",
       "      <td>0</td>\n",
       "      <td>0</td>\n",
       "      <td>0</td>\n",
       "      <td>1</td>\n",
       "      <td>0</td>\n",
       "      <td>2020</td>\n",
       "      <td>9</td>\n",
       "    </tr>\n",
       "    <tr>\n",
       "      <th>2</th>\n",
       "      <td>Love Actually</td>\n",
       "      <td>7.6</td>\n",
       "      <td>425479.0</td>\n",
       "      <td>Richard Curtis</td>\n",
       "      <td>Richard Curtis</td>\n",
       "      <td>['Hugh Grant', 'Martine McCutcheon', 'Liam Nee...</td>\n",
       "      <td>UK</td>\n",
       "      <td>English</td>\n",
       "      <td>2003-12-26</td>\n",
       "      <td>40000000.0</td>\n",
       "      <td>...</td>\n",
       "      <td>0</td>\n",
       "      <td>0</td>\n",
       "      <td>0</td>\n",
       "      <td>0</td>\n",
       "      <td>0</td>\n",
       "      <td>0</td>\n",
       "      <td>0</td>\n",
       "      <td>1</td>\n",
       "      <td>2003</td>\n",
       "      <td>12</td>\n",
       "    </tr>\n",
       "  </tbody>\n",
       "</table>\n",
       "<p>3 rows × 37 columns</p>\n",
       "</div>"
      ],
      "text/plain": [
       "           Title  Ratings    Raters          Directors            Writers  \\\n",
       "0          Tenet      7.6  213736.0  Christopher Nolan  Christopher Nolan   \n",
       "1            Ava      5.4   28393.0        Tate Taylor     Matthew Newton   \n",
       "2  Love Actually      7.6  425479.0     Richard Curtis     Richard Curtis   \n",
       "\n",
       "                                              Actors Country   Language  \\\n",
       "0  ['John David Washington', 'Robert Pattinson', ...      UK  Norwegian   \n",
       "1   ['Jessica Chastain', 'John Malkovich', 'Common']     USA    English   \n",
       "2  ['Hugh Grant', 'Martine McCutcheon', 'Liam Nee...      UK    English   \n",
       "\n",
       "         Date       Budget  ...  Animation  Adventure  Crime Musical  Western  \\\n",
       "0  2020-08-27  205000000.0  ...          0          0      0       0        0   \n",
       "1  2020-09-02   40000000.0  ...          0          0      1       0        0   \n",
       "2  2003-12-26   40000000.0  ...          0          0      0       0        0   \n",
       "\n",
       "   War  Action  Comedy  Year  Month  \n",
       "0    0       1       0  2020      8  \n",
       "1    0       1       0  2020      9  \n",
       "2    0       0       1  2003     12  \n",
       "\n",
       "[3 rows x 37 columns]"
      ]
     },
     "execution_count": 3,
     "metadata": {},
     "output_type": "execute_result"
    }
   ],
   "source": [
    "df.head(3)"
   ]
  },
  {
   "cell_type": "code",
   "execution_count": 4,
   "metadata": {},
   "outputs": [
    {
     "data": {
      "text/plain": [
       "(1987, 37)"
      ]
     },
     "execution_count": 4,
     "metadata": {},
     "output_type": "execute_result"
    }
   ],
   "source": [
    "df.shape"
   ]
  },
  {
   "cell_type": "code",
   "execution_count": 5,
   "metadata": {},
   "outputs": [
    {
     "data": {
      "text/plain": [
       "Title                   0\n",
       "Ratings                 0\n",
       "Raters                  0\n",
       "Directors               0\n",
       "Writers                 0\n",
       "Actors                  0\n",
       "Country                 0\n",
       "Language                0\n",
       "Date                    0\n",
       "Budget                  0\n",
       "Openning Weekend        0\n",
       "Gross USA               0\n",
       "cumulative worldwide    0\n",
       "Studios                 0\n",
       "Durations               0\n",
       "Romance                 0\n",
       "Horror                  0\n",
       "Music                   0\n",
       "Fantasy                 0\n",
       "Mystery                 0\n",
       "Sci-Fi                  0\n",
       "Biography               0\n",
       "Family                  0\n",
       "Drama                   0\n",
       "Sport                   0\n",
       "History                 0\n",
       "Thriller                0\n",
       "Animation               0\n",
       "Adventure               0\n",
       "Crime                   0\n",
       "Musical                 0\n",
       "Western                 0\n",
       "War                     0\n",
       "Action                  0\n",
       "Comedy                  0\n",
       "Year                    0\n",
       "Month                   0\n",
       "dtype: int64"
      ]
     },
     "execution_count": 5,
     "metadata": {},
     "output_type": "execute_result"
    }
   ],
   "source": [
    "# checking missing values\n",
    "df.isnull().sum()"
   ]
  },
  {
   "cell_type": "markdown",
   "metadata": {},
   "source": [
    "- missing values are all eliminated\n",
    "- genres are now in binary "
   ]
  },
  {
   "cell_type": "markdown",
   "metadata": {},
   "source": [
    "# Model building:\n",
    "\n",
    "- Linear Regression\n",
    "- Ridge Regression \n",
    "- Lasso Regression\n",
    "- Random Forest\n",
    "- Bayesian Ridge"
   ]
  },
  {
   "cell_type": "code",
   "execution_count": 6,
   "metadata": {},
   "outputs": [
    {
     "data": {
      "text/plain": [
       "Index(['Title', 'Ratings', 'Raters', 'Directors', 'Writers', 'Actors',\n",
       "       'Country', 'Language', 'Date', 'Budget', 'Openning Weekend',\n",
       "       'Gross USA', 'cumulative worldwide', 'Studios', 'Durations', 'Romance',\n",
       "       'Horror', 'Music', 'Fantasy', 'Mystery', 'Sci-Fi', 'Biography',\n",
       "       'Family', 'Drama', 'Sport', 'History', 'Thriller', 'Animation',\n",
       "       'Adventure', 'Crime', 'Musical', 'Western', 'War', 'Action', 'Comedy',\n",
       "       'Year', 'Month'],\n",
       "      dtype='object')"
      ]
     },
     "execution_count": 6,
     "metadata": {},
     "output_type": "execute_result"
    }
   ],
   "source": [
    "df.columns"
   ]
  },
  {
   "cell_type": "code",
   "execution_count": 7,
   "metadata": {},
   "outputs": [],
   "source": [
    "df_model = df[['Ratings', 'Raters', \n",
    "               'Country', 'Language', 'Budget', \n",
    "               'Durations', 'Romance', 'Horror', 'Music', 'Fantasy', \n",
    "               'Mystery', 'Sci-Fi', 'Biography','Family', 'Drama', 'Sport', \n",
    "               'History', 'Thriller', 'Animation','Adventure', 'Crime', 'Musical',\n",
    "               'Western', 'War', 'Action', 'Comedy','Year', 'Month']]"
   ]
  },
  {
   "cell_type": "code",
   "execution_count": 8,
   "metadata": {},
   "outputs": [],
   "source": [
    "# get dummy variables\n",
    "df_dum = pd.get_dummies(df_model)"
   ]
  },
  {
   "cell_type": "code",
   "execution_count": 9,
   "metadata": {},
   "outputs": [],
   "source": [
    "# train test split\n",
    "from sklearn.model_selection import train_test_split\n",
    "\n",
    "X = df_dum.drop('Ratings', axis = 1)\n",
    "y = df_dum.Ratings.values\n",
    "X_train, X_test, y_train, y_test = train_test_split(X, y, test_size=0.2, random_state=42)"
   ]
  },
  {
   "cell_type": "markdown",
   "metadata": {},
   "source": [
    "# Linear Regression"
   ]
  },
  {
   "cell_type": "code",
   "execution_count": 10,
   "metadata": {
    "scrolled": false
   },
   "outputs": [
    {
     "data": {
      "text/html": [
       "<table class=\"simpletable\">\n",
       "<caption>OLS Regression Results</caption>\n",
       "<tr>\n",
       "  <th>Dep. Variable:</th>            <td>y</td>        <th>  R-squared:         </th> <td>   0.426</td> \n",
       "</tr>\n",
       "<tr>\n",
       "  <th>Model:</th>                   <td>OLS</td>       <th>  Adj. R-squared:    </th> <td>   0.407</td> \n",
       "</tr>\n",
       "<tr>\n",
       "  <th>Method:</th>             <td>Least Squares</td>  <th>  F-statistic:       </th> <td>   21.63</td> \n",
       "</tr>\n",
       "<tr>\n",
       "  <th>Date:</th>             <td>Thu, 14 Jan 2021</td> <th>  Prob (F-statistic):</th> <td>4.36e-184</td>\n",
       "</tr>\n",
       "<tr>\n",
       "  <th>Time:</th>                 <td>12:28:37</td>     <th>  Log-Likelihood:    </th> <td> -2100.4</td> \n",
       "</tr>\n",
       "<tr>\n",
       "  <th>No. Observations:</th>      <td>  1987</td>      <th>  AIC:               </th> <td>   4335.</td> \n",
       "</tr>\n",
       "<tr>\n",
       "  <th>Df Residuals:</th>          <td>  1920</td>      <th>  BIC:               </th> <td>   4710.</td> \n",
       "</tr>\n",
       "<tr>\n",
       "  <th>Df Model:</th>              <td>    66</td>      <th>                     </th>     <td> </td>    \n",
       "</tr>\n",
       "<tr>\n",
       "  <th>Covariance Type:</th>      <td>nonrobust</td>    <th>                     </th>     <td> </td>    \n",
       "</tr>\n",
       "</table>\n",
       "<table class=\"simpletable\">\n",
       "<tr>\n",
       "                <td></td>                  <th>coef</th>     <th>std err</th>      <th>t</th>      <th>P>|t|</th>  <th>[0.025</th>    <th>0.975]</th>  \n",
       "</tr>\n",
       "<tr>\n",
       "  <th>const</th>                        <td>    4.4179</td> <td>    5.289</td> <td>    0.835</td> <td> 0.404</td> <td>   -5.956</td> <td>   14.791</td>\n",
       "</tr>\n",
       "<tr>\n",
       "  <th>Raters</th>                       <td> 2.348e-06</td> <td> 9.36e-08</td> <td>   25.078</td> <td> 0.000</td> <td> 2.16e-06</td> <td> 2.53e-06</td>\n",
       "</tr>\n",
       "<tr>\n",
       "  <th>Budget</th>                       <td> -3.81e-09</td> <td> 3.45e-10</td> <td>  -11.028</td> <td> 0.000</td> <td>-4.49e-09</td> <td>-3.13e-09</td>\n",
       "</tr>\n",
       "<tr>\n",
       "  <th>Durations</th>                    <td>    0.0134</td> <td>    0.001</td> <td>   13.036</td> <td> 0.000</td> <td>    0.011</td> <td>    0.015</td>\n",
       "</tr>\n",
       "<tr>\n",
       "  <th>Romance</th>                      <td>   -0.0416</td> <td>    0.047</td> <td>   -0.890</td> <td> 0.374</td> <td>   -0.133</td> <td>    0.050</td>\n",
       "</tr>\n",
       "<tr>\n",
       "  <th>Horror</th>                       <td>   -0.0065</td> <td>    0.057</td> <td>   -0.115</td> <td> 0.908</td> <td>   -0.118</td> <td>    0.105</td>\n",
       "</tr>\n",
       "<tr>\n",
       "  <th>Music</th>                        <td>   -0.0741</td> <td>    0.100</td> <td>   -0.741</td> <td> 0.459</td> <td>   -0.270</td> <td>    0.122</td>\n",
       "</tr>\n",
       "<tr>\n",
       "  <th>Fantasy</th>                      <td>    0.0117</td> <td>    0.051</td> <td>    0.228</td> <td> 0.820</td> <td>   -0.089</td> <td>    0.112</td>\n",
       "</tr>\n",
       "<tr>\n",
       "  <th>Mystery</th>                      <td>    0.0157</td> <td>    0.053</td> <td>    0.299</td> <td> 0.765</td> <td>   -0.087</td> <td>    0.119</td>\n",
       "</tr>\n",
       "<tr>\n",
       "  <th>Sci-Fi</th>                       <td>    0.0777</td> <td>    0.049</td> <td>    1.584</td> <td> 0.113</td> <td>   -0.019</td> <td>    0.174</td>\n",
       "</tr>\n",
       "<tr>\n",
       "  <th>Biography</th>                    <td>    0.0011</td> <td>    0.066</td> <td>    0.017</td> <td> 0.986</td> <td>   -0.129</td> <td>    0.131</td>\n",
       "</tr>\n",
       "<tr>\n",
       "  <th>Family</th>                       <td>   -0.0255</td> <td>    0.072</td> <td>   -0.351</td> <td> 0.725</td> <td>   -0.168</td> <td>    0.117</td>\n",
       "</tr>\n",
       "<tr>\n",
       "  <th>Drama</th>                        <td>    0.0095</td> <td>    0.040</td> <td>    0.234</td> <td> 0.815</td> <td>   -0.070</td> <td>    0.089</td>\n",
       "</tr>\n",
       "<tr>\n",
       "  <th>Sport</th>                        <td>    0.0094</td> <td>    0.112</td> <td>    0.084</td> <td> 0.933</td> <td>   -0.211</td> <td>    0.230</td>\n",
       "</tr>\n",
       "<tr>\n",
       "  <th>History</th>                      <td>    0.0326</td> <td>    0.090</td> <td>    0.364</td> <td> 0.716</td> <td>   -0.143</td> <td>    0.209</td>\n",
       "</tr>\n",
       "<tr>\n",
       "  <th>Thriller</th>                     <td>   -0.0053</td> <td>    0.044</td> <td>   -0.122</td> <td> 0.903</td> <td>   -0.091</td> <td>    0.080</td>\n",
       "</tr>\n",
       "<tr>\n",
       "  <th>Animation</th>                    <td>    0.0450</td> <td>    0.095</td> <td>    0.473</td> <td> 0.636</td> <td>   -0.142</td> <td>    0.232</td>\n",
       "</tr>\n",
       "<tr>\n",
       "  <th>Adventure</th>                    <td>   -0.0042</td> <td>    0.050</td> <td>   -0.085</td> <td> 0.932</td> <td>   -0.101</td> <td>    0.093</td>\n",
       "</tr>\n",
       "<tr>\n",
       "  <th>Crime</th>                        <td>   -0.0107</td> <td>    0.048</td> <td>   -0.222</td> <td> 0.825</td> <td>   -0.105</td> <td>    0.084</td>\n",
       "</tr>\n",
       "<tr>\n",
       "  <th>Musical</th>                      <td>   -0.0897</td> <td>    0.113</td> <td>   -0.795</td> <td> 0.426</td> <td>   -0.311</td> <td>    0.132</td>\n",
       "</tr>\n",
       "<tr>\n",
       "  <th>Western</th>                      <td>    0.1685</td> <td>    0.144</td> <td>    1.168</td> <td> 0.243</td> <td>   -0.114</td> <td>    0.451</td>\n",
       "</tr>\n",
       "<tr>\n",
       "  <th>War</th>                          <td>    0.0010</td> <td>    0.094</td> <td>    0.011</td> <td> 0.992</td> <td>   -0.183</td> <td>    0.185</td>\n",
       "</tr>\n",
       "<tr>\n",
       "  <th>Action</th>                       <td>   -0.0522</td> <td>    0.045</td> <td>   -1.149</td> <td> 0.251</td> <td>   -0.141</td> <td>    0.037</td>\n",
       "</tr>\n",
       "<tr>\n",
       "  <th>Comedy</th>                       <td>   -0.0344</td> <td>    0.043</td> <td>   -0.802</td> <td> 0.422</td> <td>   -0.118</td> <td>    0.050</td>\n",
       "</tr>\n",
       "<tr>\n",
       "  <th>Year</th>                         <td>    0.0002</td> <td>    0.003</td> <td>    0.069</td> <td> 0.945</td> <td>   -0.005</td> <td>    0.006</td>\n",
       "</tr>\n",
       "<tr>\n",
       "  <th>Month</th>                        <td>   -0.0108</td> <td>    0.005</td> <td>   -2.368</td> <td> 0.018</td> <td>   -0.020</td> <td>   -0.002</td>\n",
       "</tr>\n",
       "<tr>\n",
       "  <th>Country_Australia</th>            <td>    0.1852</td> <td>    0.275</td> <td>    0.675</td> <td> 0.500</td> <td>   -0.353</td> <td>    0.724</td>\n",
       "</tr>\n",
       "<tr>\n",
       "  <th>Country_Bahamas</th>              <td>    0.3454</td> <td>    0.717</td> <td>    0.482</td> <td> 0.630</td> <td>   -1.061</td> <td>    1.752</td>\n",
       "</tr>\n",
       "<tr>\n",
       "  <th>Country_Belgium</th>              <td>    0.9642</td> <td>    0.443</td> <td>    2.175</td> <td> 0.030</td> <td>    0.095</td> <td>    1.834</td>\n",
       "</tr>\n",
       "<tr>\n",
       "  <th>Country_Canada</th>               <td>   -0.0202</td> <td>    0.227</td> <td>   -0.089</td> <td> 0.929</td> <td>   -0.465</td> <td>    0.425</td>\n",
       "</tr>\n",
       "<tr>\n",
       "  <th>Country_China</th>                <td>    0.2023</td> <td>    0.273</td> <td>    0.741</td> <td> 0.459</td> <td>   -0.333</td> <td>    0.738</td>\n",
       "</tr>\n",
       "<tr>\n",
       "  <th>Country_Czech Republic</th>       <td>    0.6767</td> <td>    0.526</td> <td>    1.285</td> <td> 0.199</td> <td>   -0.356</td> <td>    1.709</td>\n",
       "</tr>\n",
       "<tr>\n",
       "  <th>Country_Denmark</th>              <td>    0.3020</td> <td>    0.444</td> <td>    0.680</td> <td> 0.497</td> <td>   -0.569</td> <td>    1.173</td>\n",
       "</tr>\n",
       "<tr>\n",
       "  <th>Country_France</th>               <td>    0.4964</td> <td>    0.246</td> <td>    2.018</td> <td> 0.044</td> <td>    0.014</td> <td>    0.979</td>\n",
       "</tr>\n",
       "<tr>\n",
       "  <th>Country_Germany</th>              <td>    0.3663</td> <td>    0.225</td> <td>    1.625</td> <td> 0.104</td> <td>   -0.076</td> <td>    0.808</td>\n",
       "</tr>\n",
       "<tr>\n",
       "  <th>Country_Hong Kong</th>            <td>    0.6436</td> <td>    0.364</td> <td>    1.769</td> <td> 0.077</td> <td>   -0.070</td> <td>    1.357</td>\n",
       "</tr>\n",
       "<tr>\n",
       "  <th>Country_Indonesia</th>            <td>    0.3873</td> <td>    0.438</td> <td>    0.885</td> <td> 0.376</td> <td>   -0.471</td> <td>    1.246</td>\n",
       "</tr>\n",
       "<tr>\n",
       "  <th>Country_Ireland</th>              <td>    0.7408</td> <td>    0.283</td> <td>    2.621</td> <td> 0.009</td> <td>    0.186</td> <td>    1.295</td>\n",
       "</tr>\n",
       "<tr>\n",
       "  <th>Country_Italy</th>                <td>   -0.0564</td> <td>    0.400</td> <td>   -0.141</td> <td> 0.888</td> <td>   -0.842</td> <td>    0.729</td>\n",
       "</tr>\n",
       "<tr>\n",
       "  <th>Country_Japan</th>                <td>   -0.6116</td> <td>    0.528</td> <td>   -1.157</td> <td> 0.247</td> <td>   -1.648</td> <td>    0.425</td>\n",
       "</tr>\n",
       "<tr>\n",
       "  <th>Country_Malta</th>                <td>    0.0364</td> <td>    0.716</td> <td>    0.051</td> <td> 0.959</td> <td>   -1.368</td> <td>    1.440</td>\n",
       "</tr>\n",
       "<tr>\n",
       "  <th>Country_Mexico</th>               <td>    1.0244</td> <td>    0.712</td> <td>    1.439</td> <td> 0.150</td> <td>   -0.372</td> <td>    2.421</td>\n",
       "</tr>\n",
       "<tr>\n",
       "  <th>Country_Netherlands</th>          <td>   -1.1418</td> <td>    0.718</td> <td>   -1.589</td> <td> 0.112</td> <td>   -2.551</td> <td>    0.267</td>\n",
       "</tr>\n",
       "<tr>\n",
       "  <th>Country_New Zealand</th>          <td>   -0.3409</td> <td>    0.311</td> <td>   -1.098</td> <td> 0.272</td> <td>   -0.950</td> <td>    0.268</td>\n",
       "</tr>\n",
       "<tr>\n",
       "  <th>Country_Norway</th>               <td>   -0.0923</td> <td>    0.594</td> <td>   -0.155</td> <td> 0.877</td> <td>   -1.258</td> <td>    1.074</td>\n",
       "</tr>\n",
       "<tr>\n",
       "  <th>Country_Russia</th>               <td>   -0.4242</td> <td>    0.528</td> <td>   -0.804</td> <td> 0.422</td> <td>   -1.459</td> <td>    0.611</td>\n",
       "</tr>\n",
       "<tr>\n",
       "  <th>Country_South Africa</th>         <td>    0.3042</td> <td>    0.396</td> <td>    0.769</td> <td> 0.442</td> <td>   -0.472</td> <td>    1.080</td>\n",
       "</tr>\n",
       "<tr>\n",
       "  <th>Country_South Korea</th>          <td>    0.9548</td> <td>    0.720</td> <td>    1.327</td> <td> 0.185</td> <td>   -0.457</td> <td>    2.366</td>\n",
       "</tr>\n",
       "<tr>\n",
       "  <th>Country_Spain</th>                <td>    0.5577</td> <td>    0.291</td> <td>    1.916</td> <td> 0.056</td> <td>   -0.013</td> <td>    1.129</td>\n",
       "</tr>\n",
       "<tr>\n",
       "  <th>Country_Sweden</th>               <td>    0.2654</td> <td>    0.437</td> <td>    0.607</td> <td> 0.544</td> <td>   -0.592</td> <td>    1.123</td>\n",
       "</tr>\n",
       "<tr>\n",
       "  <th>Country_Switzerland</th>          <td>   -0.4929</td> <td>    0.720</td> <td>   -0.684</td> <td> 0.494</td> <td>   -1.905</td> <td>    0.919</td>\n",
       "</tr>\n",
       "<tr>\n",
       "  <th>Country_Taiwan</th>               <td>   -0.9672</td> <td>    0.983</td> <td>   -0.984</td> <td> 0.325</td> <td>   -2.896</td> <td>    0.961</td>\n",
       "</tr>\n",
       "<tr>\n",
       "  <th>Country_UK</th>                   <td>    0.3708</td> <td>    0.202</td> <td>    1.837</td> <td> 0.066</td> <td>   -0.025</td> <td>    0.767</td>\n",
       "</tr>\n",
       "<tr>\n",
       "  <th>Country_USA</th>                  <td>    0.1573</td> <td>    0.196</td> <td>    0.804</td> <td> 0.421</td> <td>   -0.226</td> <td>    0.541</td>\n",
       "</tr>\n",
       "<tr>\n",
       "  <th>Country_United Arab Emirates</th> <td>   -0.4160</td> <td>    0.524</td> <td>   -0.793</td> <td> 0.428</td> <td>   -1.444</td> <td>    0.613</td>\n",
       "</tr>\n",
       "<tr>\n",
       "  <th>Language_Arabic</th>              <td>    0.3703</td> <td>    0.613</td> <td>    0.604</td> <td> 0.546</td> <td>   -0.833</td> <td>    1.573</td>\n",
       "</tr>\n",
       "<tr>\n",
       "  <th>Language_Dutch</th>               <td>   -0.6455</td> <td>    0.774</td> <td>   -0.834</td> <td> 0.404</td> <td>   -2.164</td> <td>    0.873</td>\n",
       "</tr>\n",
       "<tr>\n",
       "  <th>Language_English</th>             <td>   -0.0496</td> <td>    0.380</td> <td>   -0.130</td> <td> 0.896</td> <td>   -0.794</td> <td>    0.695</td>\n",
       "</tr>\n",
       "<tr>\n",
       "  <th>Language_French</th>              <td>    0.9516</td> <td>    0.771</td> <td>    1.234</td> <td> 0.218</td> <td>   -0.561</td> <td>    2.465</td>\n",
       "</tr>\n",
       "<tr>\n",
       "  <th>Language_German</th>              <td>    0.2766</td> <td>    0.760</td> <td>    0.364</td> <td> 0.716</td> <td>   -1.215</td> <td>    1.768</td>\n",
       "</tr>\n",
       "<tr>\n",
       "  <th>Language_Greek</th>               <td>    0.3255</td> <td>    0.759</td> <td>    0.429</td> <td> 0.668</td> <td>   -1.163</td> <td>    1.814</td>\n",
       "</tr>\n",
       "<tr>\n",
       "  <th>Language_Hindi</th>               <td>    0.7186</td> <td>    0.615</td> <td>    1.169</td> <td> 0.243</td> <td>   -0.487</td> <td>    1.924</td>\n",
       "</tr>\n",
       "<tr>\n",
       "  <th>Language_Indonesian</th>          <td>    0.3873</td> <td>    0.438</td> <td>    0.885</td> <td> 0.376</td> <td>   -0.471</td> <td>    1.246</td>\n",
       "</tr>\n",
       "<tr>\n",
       "  <th>Language_Italian</th>             <td>    1.2808</td> <td>    0.816</td> <td>    1.570</td> <td> 0.117</td> <td>   -0.319</td> <td>    2.881</td>\n",
       "</tr>\n",
       "<tr>\n",
       "  <th>Language_Latin</th>               <td>    0.0578</td> <td>    0.757</td> <td>    0.076</td> <td> 0.939</td> <td>   -1.426</td> <td>    1.542</td>\n",
       "</tr>\n",
       "<tr>\n",
       "  <th>Language_Mandarin</th>            <td>    1.5136</td> <td>    0.773</td> <td>    1.959</td> <td> 0.050</td> <td>   -0.002</td> <td>    3.029</td>\n",
       "</tr>\n",
       "<tr>\n",
       "  <th>Language_Norwegian</th>           <td>    0.2857</td> <td>    0.668</td> <td>    0.428</td> <td> 0.669</td> <td>   -1.025</td> <td>    1.596</td>\n",
       "</tr>\n",
       "<tr>\n",
       "  <th>Language_Portuguese</th>          <td>    1.1823</td> <td>    0.780</td> <td>    1.516</td> <td> 0.130</td> <td>   -0.348</td> <td>    2.712</td>\n",
       "</tr>\n",
       "<tr>\n",
       "  <th>Language_Spanish</th>             <td>   -0.3119</td> <td>    0.614</td> <td>   -0.508</td> <td> 0.611</td> <td>   -1.516</td> <td>    0.892</td>\n",
       "</tr>\n",
       "<tr>\n",
       "  <th>Language_Swedish</th>             <td>    0.2654</td> <td>    0.437</td> <td>    0.607</td> <td> 0.544</td> <td>   -0.592</td> <td>    1.123</td>\n",
       "</tr>\n",
       "<tr>\n",
       "  <th>Language_Telugu</th>              <td>   -2.1908</td> <td>    0.755</td> <td>   -2.900</td> <td> 0.004</td> <td>   -3.672</td> <td>   -0.709</td>\n",
       "</tr>\n",
       "</table>\n",
       "<table class=\"simpletable\">\n",
       "<tr>\n",
       "  <th>Omnibus:</th>       <td>357.709</td> <th>  Durbin-Watson:     </th> <td>   2.045</td> \n",
       "</tr>\n",
       "<tr>\n",
       "  <th>Prob(Omnibus):</th> <td> 0.000</td>  <th>  Jarque-Bera (JB):  </th> <td> 977.012</td> \n",
       "</tr>\n",
       "<tr>\n",
       "  <th>Skew:</th>          <td>-0.948</td>  <th>  Prob(JB):          </th> <td>6.99e-213</td>\n",
       "</tr>\n",
       "<tr>\n",
       "  <th>Kurtosis:</th>      <td> 5.864</td>  <th>  Cond. No.          </th> <td>1.73e+17</td> \n",
       "</tr>\n",
       "</table><br/><br/>Notes:<br/>[1] Standard Errors assume that the covariance matrix of the errors is correctly specified.<br/>[2] The smallest eigenvalue is 4.16e-16. This might indicate that there are<br/>strong multicollinearity problems or that the design matrix is singular."
      ],
      "text/plain": [
       "<class 'statsmodels.iolib.summary.Summary'>\n",
       "\"\"\"\n",
       "                            OLS Regression Results                            \n",
       "==============================================================================\n",
       "Dep. Variable:                      y   R-squared:                       0.426\n",
       "Model:                            OLS   Adj. R-squared:                  0.407\n",
       "Method:                 Least Squares   F-statistic:                     21.63\n",
       "Date:                Thu, 14 Jan 2021   Prob (F-statistic):          4.36e-184\n",
       "Time:                        12:28:37   Log-Likelihood:                -2100.4\n",
       "No. Observations:                1987   AIC:                             4335.\n",
       "Df Residuals:                    1920   BIC:                             4710.\n",
       "Df Model:                          66                                         \n",
       "Covariance Type:            nonrobust                                         \n",
       "================================================================================================\n",
       "                                   coef    std err          t      P>|t|      [0.025      0.975]\n",
       "------------------------------------------------------------------------------------------------\n",
       "const                            4.4179      5.289      0.835      0.404      -5.956      14.791\n",
       "Raters                        2.348e-06   9.36e-08     25.078      0.000    2.16e-06    2.53e-06\n",
       "Budget                        -3.81e-09   3.45e-10    -11.028      0.000   -4.49e-09   -3.13e-09\n",
       "Durations                        0.0134      0.001     13.036      0.000       0.011       0.015\n",
       "Romance                         -0.0416      0.047     -0.890      0.374      -0.133       0.050\n",
       "Horror                          -0.0065      0.057     -0.115      0.908      -0.118       0.105\n",
       "Music                           -0.0741      0.100     -0.741      0.459      -0.270       0.122\n",
       "Fantasy                          0.0117      0.051      0.228      0.820      -0.089       0.112\n",
       "Mystery                          0.0157      0.053      0.299      0.765      -0.087       0.119\n",
       "Sci-Fi                           0.0777      0.049      1.584      0.113      -0.019       0.174\n",
       "Biography                        0.0011      0.066      0.017      0.986      -0.129       0.131\n",
       "Family                          -0.0255      0.072     -0.351      0.725      -0.168       0.117\n",
       "Drama                            0.0095      0.040      0.234      0.815      -0.070       0.089\n",
       "Sport                            0.0094      0.112      0.084      0.933      -0.211       0.230\n",
       "History                          0.0326      0.090      0.364      0.716      -0.143       0.209\n",
       "Thriller                        -0.0053      0.044     -0.122      0.903      -0.091       0.080\n",
       "Animation                        0.0450      0.095      0.473      0.636      -0.142       0.232\n",
       "Adventure                       -0.0042      0.050     -0.085      0.932      -0.101       0.093\n",
       "Crime                           -0.0107      0.048     -0.222      0.825      -0.105       0.084\n",
       "Musical                         -0.0897      0.113     -0.795      0.426      -0.311       0.132\n",
       "Western                          0.1685      0.144      1.168      0.243      -0.114       0.451\n",
       "War                              0.0010      0.094      0.011      0.992      -0.183       0.185\n",
       "Action                          -0.0522      0.045     -1.149      0.251      -0.141       0.037\n",
       "Comedy                          -0.0344      0.043     -0.802      0.422      -0.118       0.050\n",
       "Year                             0.0002      0.003      0.069      0.945      -0.005       0.006\n",
       "Month                           -0.0108      0.005     -2.368      0.018      -0.020      -0.002\n",
       "Country_Australia                0.1852      0.275      0.675      0.500      -0.353       0.724\n",
       "Country_Bahamas                  0.3454      0.717      0.482      0.630      -1.061       1.752\n",
       "Country_Belgium                  0.9642      0.443      2.175      0.030       0.095       1.834\n",
       "Country_Canada                  -0.0202      0.227     -0.089      0.929      -0.465       0.425\n",
       "Country_China                    0.2023      0.273      0.741      0.459      -0.333       0.738\n",
       "Country_Czech Republic           0.6767      0.526      1.285      0.199      -0.356       1.709\n",
       "Country_Denmark                  0.3020      0.444      0.680      0.497      -0.569       1.173\n",
       "Country_France                   0.4964      0.246      2.018      0.044       0.014       0.979\n",
       "Country_Germany                  0.3663      0.225      1.625      0.104      -0.076       0.808\n",
       "Country_Hong Kong                0.6436      0.364      1.769      0.077      -0.070       1.357\n",
       "Country_Indonesia                0.3873      0.438      0.885      0.376      -0.471       1.246\n",
       "Country_Ireland                  0.7408      0.283      2.621      0.009       0.186       1.295\n",
       "Country_Italy                   -0.0564      0.400     -0.141      0.888      -0.842       0.729\n",
       "Country_Japan                   -0.6116      0.528     -1.157      0.247      -1.648       0.425\n",
       "Country_Malta                    0.0364      0.716      0.051      0.959      -1.368       1.440\n",
       "Country_Mexico                   1.0244      0.712      1.439      0.150      -0.372       2.421\n",
       "Country_Netherlands             -1.1418      0.718     -1.589      0.112      -2.551       0.267\n",
       "Country_New Zealand             -0.3409      0.311     -1.098      0.272      -0.950       0.268\n",
       "Country_Norway                  -0.0923      0.594     -0.155      0.877      -1.258       1.074\n",
       "Country_Russia                  -0.4242      0.528     -0.804      0.422      -1.459       0.611\n",
       "Country_South Africa             0.3042      0.396      0.769      0.442      -0.472       1.080\n",
       "Country_South Korea              0.9548      0.720      1.327      0.185      -0.457       2.366\n",
       "Country_Spain                    0.5577      0.291      1.916      0.056      -0.013       1.129\n",
       "Country_Sweden                   0.2654      0.437      0.607      0.544      -0.592       1.123\n",
       "Country_Switzerland             -0.4929      0.720     -0.684      0.494      -1.905       0.919\n",
       "Country_Taiwan                  -0.9672      0.983     -0.984      0.325      -2.896       0.961\n",
       "Country_UK                       0.3708      0.202      1.837      0.066      -0.025       0.767\n",
       "Country_USA                      0.1573      0.196      0.804      0.421      -0.226       0.541\n",
       "Country_United Arab Emirates    -0.4160      0.524     -0.793      0.428      -1.444       0.613\n",
       "Language_Arabic                  0.3703      0.613      0.604      0.546      -0.833       1.573\n",
       "Language_Dutch                  -0.6455      0.774     -0.834      0.404      -2.164       0.873\n",
       "Language_English                -0.0496      0.380     -0.130      0.896      -0.794       0.695\n",
       "Language_French                  0.9516      0.771      1.234      0.218      -0.561       2.465\n",
       "Language_German                  0.2766      0.760      0.364      0.716      -1.215       1.768\n",
       "Language_Greek                   0.3255      0.759      0.429      0.668      -1.163       1.814\n",
       "Language_Hindi                   0.7186      0.615      1.169      0.243      -0.487       1.924\n",
       "Language_Indonesian              0.3873      0.438      0.885      0.376      -0.471       1.246\n",
       "Language_Italian                 1.2808      0.816      1.570      0.117      -0.319       2.881\n",
       "Language_Latin                   0.0578      0.757      0.076      0.939      -1.426       1.542\n",
       "Language_Mandarin                1.5136      0.773      1.959      0.050      -0.002       3.029\n",
       "Language_Norwegian               0.2857      0.668      0.428      0.669      -1.025       1.596\n",
       "Language_Portuguese              1.1823      0.780      1.516      0.130      -0.348       2.712\n",
       "Language_Spanish                -0.3119      0.614     -0.508      0.611      -1.516       0.892\n",
       "Language_Swedish                 0.2654      0.437      0.607      0.544      -0.592       1.123\n",
       "Language_Telugu                 -2.1908      0.755     -2.900      0.004      -3.672      -0.709\n",
       "==============================================================================\n",
       "Omnibus:                      357.709   Durbin-Watson:                   2.045\n",
       "Prob(Omnibus):                  0.000   Jarque-Bera (JB):              977.012\n",
       "Skew:                          -0.948   Prob(JB):                    6.99e-213\n",
       "Kurtosis:                       5.864   Cond. No.                     1.73e+17\n",
       "==============================================================================\n",
       "\n",
       "Notes:\n",
       "[1] Standard Errors assume that the covariance matrix of the errors is correctly specified.\n",
       "[2] The smallest eigenvalue is 4.16e-16. This might indicate that there are\n",
       "strong multicollinearity problems or that the design matrix is singular.\n",
       "\"\"\""
      ]
     },
     "execution_count": 10,
     "metadata": {},
     "output_type": "execute_result"
    }
   ],
   "source": [
    "# multiple linear regression\n",
    "import statsmodels.api as sm\n",
    "\n",
    "X_sm = X = sm.add_constant(X)\n",
    "model = sm.OLS(y, X_sm)\n",
    "model.fit().summary()"
   ]
  },
  {
   "cell_type": "code",
   "execution_count": 11,
   "metadata": {},
   "outputs": [
    {
     "data": {
      "text/plain": [
       "0.43598790107606755"
      ]
     },
     "execution_count": 11,
     "metadata": {},
     "output_type": "execute_result"
    }
   ],
   "source": [
    "# linear Regression\n",
    "from sklearn.linear_model import LinearRegression, Lasso, Ridge\n",
    "from sklearn.model_selection import cross_val_score\n",
    "\n",
    "lm = LinearRegression()\n",
    "reg = lm.fit(X_train, y_train)\n",
    "reg.score(X_train, y_train)"
   ]
  },
  {
   "cell_type": "code",
   "execution_count": 12,
   "metadata": {},
   "outputs": [
    {
     "data": {
      "text/plain": [
       "-0.5407481180413725"
      ]
     },
     "execution_count": 12,
     "metadata": {},
     "output_type": "execute_result"
    }
   ],
   "source": [
    "# Mean Absolute Error\n",
    "np.mean(cross_val_score(lm, X_train, y_train, scoring = 'neg_mean_absolute_error', cv=3))"
   ]
  },
  {
   "cell_type": "markdown",
   "metadata": {},
   "source": [
    "# Lasso Regression"
   ]
  },
  {
   "cell_type": "code",
   "execution_count": 13,
   "metadata": {},
   "outputs": [
    {
     "data": {
      "text/plain": [
       "-0.5347048895827061"
      ]
     },
     "execution_count": 13,
     "metadata": {},
     "output_type": "execute_result"
    }
   ],
   "source": [
    "# lasso regression\n",
    "lm_l = Lasso(alpha=0.012)\n",
    "lm_l.fit(X_train, y_train)\n",
    "\n",
    "np.mean(cross_val_score(lm_l, X_train, y_train, scoring = 'neg_mean_absolute_error', cv=3))"
   ]
  },
  {
   "cell_type": "code",
   "execution_count": 14,
   "metadata": {},
   "outputs": [
    {
     "data": {
      "text/plain": [
       "[<matplotlib.lines.Line2D at 0x7f8be0aa7220>]"
      ]
     },
     "execution_count": 14,
     "metadata": {},
     "output_type": "execute_result"
    },
    {
     "data": {
      "image/png": "[encoded data removed]",
      "text/plain": [
       "<Figure size 432x288 with 1 Axes>"
      ]
     },
     "metadata": {
      "needs_background": "light"
     },
     "output_type": "display_data"
    }
   ],
   "source": [
    "alpha = []\n",
    "error = []\n",
    "\n",
    "for i in range(1,100):\n",
    "    alpha.append(i/1000)\n",
    "    lml = Lasso(alpha=(i/1000))\n",
    "    error.append(np.mean(cross_val_score(lml, X_train, y_train, scoring = 'neg_mean_absolute_error', cv=3)))\n",
    "\n",
    "\n",
    "plt.plot(alpha, error)"
   ]
  },
  {
   "cell_type": "code",
   "execution_count": 15,
   "metadata": {},
   "outputs": [
    {
     "data": {
      "text/html": [
       "<div>\n",
       "<style scoped>\n",
       "    .dataframe tbody tr th:only-of-type {\n",
       "        vertical-align: middle;\n",
       "    }\n",
       "\n",
       "    .dataframe tbody tr th {\n",
       "        vertical-align: top;\n",
       "    }\n",
       "\n",
       "    .dataframe thead th {\n",
       "        text-align: right;\n",
       "    }\n",
       "</style>\n",
       "<table border=\"1\" class=\"dataframe\">\n",
       "  <thead>\n",
       "    <tr style=\"text-align: right;\">\n",
       "      <th></th>\n",
       "      <th>alpha</th>\n",
       "      <th>error</th>\n",
       "    </tr>\n",
       "  </thead>\n",
       "  <tbody>\n",
       "    <tr>\n",
       "      <th>11</th>\n",
       "      <td>0.012</td>\n",
       "      <td>-0.534636</td>\n",
       "    </tr>\n",
       "  </tbody>\n",
       "</table>\n",
       "</div>"
      ],
      "text/plain": [
       "    alpha     error\n",
       "11  0.012 -0.534636"
      ]
     },
     "execution_count": 15,
     "metadata": {},
     "output_type": "execute_result"
    }
   ],
   "source": [
    "err = tuple(zip(alpha, error))\n",
    "df_err = pd.DataFrame(err, columns = ['alpha', 'error'])\n",
    "df_err[df_err.error == max(df_err.error)]"
   ]
  },
  {
   "cell_type": "markdown",
   "metadata": {},
   "source": [
    "# Ridge Regression"
   ]
  },
  {
   "cell_type": "code",
   "execution_count": 16,
   "metadata": {},
   "outputs": [
    {
     "name": "stderr",
     "output_type": "stream",
     "text": [
      "/Users/roywong/opt/anaconda3/lib/python3.8/site-packages/sklearn/linear_model/_ridge.py:147: LinAlgWarning: Ill-conditioned matrix (rcond=1.3446e-19): result may not be accurate.\n",
      "  return linalg.solve(A, Xy, sym_pos=True,\n",
      "/Users/roywong/opt/anaconda3/lib/python3.8/site-packages/sklearn/linear_model/_ridge.py:147: LinAlgWarning: Ill-conditioned matrix (rcond=1.96396e-19): result may not be accurate.\n",
      "  return linalg.solve(A, Xy, sym_pos=True,\n",
      "/Users/roywong/opt/anaconda3/lib/python3.8/site-packages/sklearn/linear_model/_ridge.py:147: LinAlgWarning: Ill-conditioned matrix (rcond=3.11544e-19): result may not be accurate.\n",
      "  return linalg.solve(A, Xy, sym_pos=True,\n",
      "/Users/roywong/opt/anaconda3/lib/python3.8/site-packages/sklearn/linear_model/_ridge.py:147: LinAlgWarning: Ill-conditioned matrix (rcond=1.95135e-19): result may not be accurate.\n",
      "  return linalg.solve(A, Xy, sym_pos=True,\n"
     ]
    },
    {
     "data": {
      "text/plain": [
       "-0.5391552438030495"
      ]
     },
     "execution_count": 16,
     "metadata": {},
     "output_type": "execute_result"
    }
   ],
   "source": [
    "# Ridge Regressor\n",
    "lm_ridge = Ridge(alpha = 1)\n",
    "\n",
    "from sklearn.preprocessing import StandardScaler\n",
    "\n",
    "scaler = StandardScaler()\n",
    "# X_train_scaled, y_train_scaled  = scaler.fit_transform(X_train, y_train)\n",
    "lm_ridge.fit(X_train, y_train)\n",
    "\n",
    "np.mean(cross_val_score(lm_ridge, X_train, y_train, scoring = 'neg_mean_absolute_error', cv=3))"
   ]
  },
  {
   "cell_type": "markdown",
   "metadata": {},
   "source": [
    "# Bayesian Ridge Regression"
   ]
  },
  {
   "cell_type": "code",
   "execution_count": 17,
   "metadata": {},
   "outputs": [
    {
     "data": {
      "text/plain": [
       "-0.5376414168336439"
      ]
     },
     "execution_count": 17,
     "metadata": {},
     "output_type": "execute_result"
    }
   ],
   "source": [
    "from sklearn.linear_model import BayesianRidge\n",
    "\n",
    "lm_bayes = BayesianRidge()\n",
    "lm_bayes.fit(X_train, y_train)\n",
    "\n",
    "\n",
    "np.mean(cross_val_score(lm_bayes, X_train, y_train, scoring = 'neg_mean_absolute_error', cv=3))"
   ]
  },
  {
   "cell_type": "markdown",
   "metadata": {},
   "source": [
    "# Random Forest "
   ]
  },
  {
   "cell_type": "code",
   "execution_count": 18,
   "metadata": {},
   "outputs": [
    {
     "data": {
      "text/plain": [
       "-0.4954055569426116"
      ]
     },
     "execution_count": 18,
     "metadata": {},
     "output_type": "execute_result"
    }
   ],
   "source": [
    "# random forest \n",
    "from sklearn.ensemble import RandomForestRegressor\n",
    "rf = RandomForestRegressor()\n",
    "\n",
    "np.mean(cross_val_score(rf, X_train,y_train,scoring = 'neg_mean_absolute_error', cv= 3))"
   ]
  },
  {
   "cell_type": "markdown",
   "metadata": {},
   "source": [
    "# Model Tuning"
   ]
  },
  {
   "cell_type": "code",
   "execution_count": 19,
   "metadata": {},
   "outputs": [
    {
     "data": {
      "text/plain": [
       "RandomForestRegressor(n_estimators=200)"
      ]
     },
     "execution_count": 19,
     "metadata": {},
     "output_type": "execute_result"
    }
   ],
   "source": [
    "# tune models GridsearchCV\n",
    "from sklearn.model_selection import GridSearchCV\n",
    "parameters = {'n_estimators':range(10,300,10), 'criterion':('mse','mae'), \n",
    "              'max_features':('auto','sqrt','log2')}\n",
    "\n",
    "\n",
    "gs = GridSearchCV(rf,parameters, scoring='neg_mean_absolute_error', cv=3)\n",
    "gs.fit(X_train,y_train)\n",
    "\n",
    "\n",
    "gs.best_score_\n",
    "gs.best_estimator_"
   ]
  },
  {
   "cell_type": "markdown",
   "metadata": {},
   "source": [
    "# Test Ensemble"
   ]
  },
  {
   "cell_type": "code",
   "execution_count": 20,
   "metadata": {},
   "outputs": [],
   "source": [
    "# test ensemble\n",
    "tpred_lm = lm.predict(X_test)\n",
    "tpred_lml = lm_l.predict(X_test)\n",
    "tpred_lm_bay = lm_bayes.predict(X_test)\n",
    "tpred_rf = gs.best_estimator_.predict(X_test)"
   ]
  },
  {
   "cell_type": "code",
   "execution_count": 21,
   "metadata": {},
   "outputs": [
    {
     "name": "stdout",
     "output_type": "stream",
     "text": [
      "Linear Regression Model MAE: 0.5575675405969515\n",
      "Lasso Regression Model MAE: 0.5401317830070432\n",
      "Bayesian Ridge Regression Model MAE: 0.5406224214269147\n",
      "Random Forest Model MAE: 0.5052600502512564\n",
      "Average Random Foreest and Linear Regression MAE: 0.5145101790917322\n"
     ]
    }
   ],
   "source": [
    "from sklearn.metrics import mean_absolute_error\n",
    "print('Linear Regression Model MAE: {}'.format(mean_absolute_error(y_test,tpred_lm)))\n",
    "print('Lasso Regression Model MAE: {}'.format(mean_absolute_error(y_test,tpred_lml)))\n",
    "print('Bayesian Ridge Regression Model MAE: {}'.format(mean_absolute_error(y_test,tpred_lm_bay)))\n",
    "print('Random Forest Model MAE: {}'.format(mean_absolute_error(y_test,tpred_rf)))\n",
    "\n",
    "print('Average Random Foreest and Linear Regression MAE: {}'.format(mean_absolute_error(y_test,\n",
    "                                                                                        (tpred_lm+tpred_rf)/2)))"
   ]
  }
 ],
 "metadata": {
  "kernelspec": {
   "display_name": "Python 3",
   "language": "python",
   "name": "python3"
  },
  "language_info": {
   "codemirror_mode": {
    "name": "ipython",
    "version": 3
   },
   "file_extension": ".py",
   "mimetype": "text/x-python",
   "name": "python",
   "nbconvert_exporter": "python",
   "pygments_lexer": "ipython3",
   "version": "3.8.3"
  }
 },
 "nbformat": 4,
 "nbformat_minor": 4
}
